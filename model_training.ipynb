{
 "cells": [
  {
   "cell_type": "code",
   "execution_count": 2,
   "metadata": {},
   "outputs": [],
   "source": [
    "import pandas as pd"
   ]
  },
  {
   "cell_type": "code",
   "execution_count": 3,
   "metadata": {},
   "outputs": [
    {
     "data": {
      "text/html": [
       "<div>\n",
       "<style scoped>\n",
       "    .dataframe tbody tr th:only-of-type {\n",
       "        vertical-align: middle;\n",
       "    }\n",
       "\n",
       "    .dataframe tbody tr th {\n",
       "        vertical-align: top;\n",
       "    }\n",
       "\n",
       "    .dataframe thead th {\n",
       "        text-align: right;\n",
       "    }\n",
       "</style>\n",
       "<table border=\"1\" class=\"dataframe\">\n",
       "  <thead>\n",
       "    <tr style=\"text-align: right;\">\n",
       "      <th></th>\n",
       "      <th>text1</th>\n",
       "      <th>text2</th>\n",
       "    </tr>\n",
       "  </thead>\n",
       "  <tbody>\n",
       "    <tr>\n",
       "      <th>0</th>\n",
       "      <td>broadband challenges tv viewing the number of ...</td>\n",
       "      <td>gardener wins double in glasgow britain s jaso...</td>\n",
       "    </tr>\n",
       "    <tr>\n",
       "      <th>1</th>\n",
       "      <td>rap boss arrested over drug find rap mogul mar...</td>\n",
       "      <td>amnesty chief laments war failure the lack of ...</td>\n",
       "    </tr>\n",
       "    <tr>\n",
       "      <th>2</th>\n",
       "      <td>player burn-out worries robinson england coach...</td>\n",
       "      <td>hanks greeted at wintry premiere hollywood sta...</td>\n",
       "    </tr>\n",
       "    <tr>\n",
       "      <th>3</th>\n",
       "      <td>hearts of oak 3-2 cotonsport hearts of oak set...</td>\n",
       "      <td>redford s vision of sundance despite sporting ...</td>\n",
       "    </tr>\n",
       "    <tr>\n",
       "      <th>4</th>\n",
       "      <td>sir paul rocks super bowl crowds sir paul mcca...</td>\n",
       "      <td>mauresmo opens with victory in la amelie maure...</td>\n",
       "    </tr>\n",
       "    <tr>\n",
       "      <th>...</th>\n",
       "      <td>...</td>\n",
       "      <td>...</td>\n",
       "    </tr>\n",
       "    <tr>\n",
       "      <th>2995</th>\n",
       "      <td>uk directors guild nominees named martin scors...</td>\n",
       "      <td>steel firm  to cut  45 000 jobs mittal steel  ...</td>\n",
       "    </tr>\n",
       "    <tr>\n",
       "      <th>2996</th>\n",
       "      <td>u2 to play at grammy awards show irish rock ba...</td>\n",
       "      <td>israel looks to us for bank chief israel has a...</td>\n",
       "    </tr>\n",
       "    <tr>\n",
       "      <th>2997</th>\n",
       "      <td>pountney handed ban and fine northampton coach...</td>\n",
       "      <td>india and iran in gas export deal india has si...</td>\n",
       "    </tr>\n",
       "    <tr>\n",
       "      <th>2998</th>\n",
       "      <td>belle named  best scottish band  belle &amp; sebas...</td>\n",
       "      <td>mido makes third apology ahmed  mido  hossam h...</td>\n",
       "    </tr>\n",
       "    <tr>\n",
       "      <th>2999</th>\n",
       "      <td>criminal probe on citigroup deals traders at u...</td>\n",
       "      <td>former ni minister scott dies former northern ...</td>\n",
       "    </tr>\n",
       "  </tbody>\n",
       "</table>\n",
       "<p>3000 rows × 2 columns</p>\n",
       "</div>"
      ],
      "text/plain": [
       "                                                  text1  \\\n",
       "0     broadband challenges tv viewing the number of ...   \n",
       "1     rap boss arrested over drug find rap mogul mar...   \n",
       "2     player burn-out worries robinson england coach...   \n",
       "3     hearts of oak 3-2 cotonsport hearts of oak set...   \n",
       "4     sir paul rocks super bowl crowds sir paul mcca...   \n",
       "...                                                 ...   \n",
       "2995  uk directors guild nominees named martin scors...   \n",
       "2996  u2 to play at grammy awards show irish rock ba...   \n",
       "2997  pountney handed ban and fine northampton coach...   \n",
       "2998  belle named  best scottish band  belle & sebas...   \n",
       "2999  criminal probe on citigroup deals traders at u...   \n",
       "\n",
       "                                                  text2  \n",
       "0     gardener wins double in glasgow britain s jaso...  \n",
       "1     amnesty chief laments war failure the lack of ...  \n",
       "2     hanks greeted at wintry premiere hollywood sta...  \n",
       "3     redford s vision of sundance despite sporting ...  \n",
       "4     mauresmo opens with victory in la amelie maure...  \n",
       "...                                                 ...  \n",
       "2995  steel firm  to cut  45 000 jobs mittal steel  ...  \n",
       "2996  israel looks to us for bank chief israel has a...  \n",
       "2997  india and iran in gas export deal india has si...  \n",
       "2998  mido makes third apology ahmed  mido  hossam h...  \n",
       "2999  former ni minister scott dies former northern ...  \n",
       "\n",
       "[3000 rows x 2 columns]"
      ]
     },
     "execution_count": 3,
     "metadata": {},
     "output_type": "execute_result"
    }
   ],
   "source": [
    "df = pd.read_csv('DataNeuron_Text_Similarity.csv')\n",
    "df"
   ]
  },
  {
   "cell_type": "code",
   "execution_count": 4,
   "metadata": {},
   "outputs": [
    {
     "name": "stderr",
     "output_type": "stream",
     "text": [
      "[nltk_data] Downloading package stopwords to\n",
      "[nltk_data]     /Users/subham/nltk_data...\n",
      "[nltk_data]   Package stopwords is already up-to-date!\n"
     ]
    }
   ],
   "source": [
    "import re\n",
    "import nltk\n",
    "nltk.download('stopwords')\n",
    "import string\n",
    "from nltk.corpus import stopwords\n",
    "from nltk.stem import PorterStemmer\n",
    "\n",
    "STOPWORDS = list(stopwords.words('english'))\n",
    "ps = PorterStemmer()\n",
    "\n",
    "class preprocess_text():\n",
    "    def remove_URL(text):\n",
    "        url = re.compile(r'https?://\\S+|www\\.\\S+')\n",
    "        return url.sub(r'',str(text))\n",
    "    \n",
    "    def remove_emoji(text):\n",
    "        emoji_pattern = re.compile(\"[\"\n",
    "                            u\"\\U0001F600-\\U0001F64F\"  # emoticons\n",
    "                            u\"\\U0001F300-\\U0001F5FF\"  # symbols & pictographs\n",
    "                            u\"\\U0001F680-\\U0001F6FF\"  # transport & map symbols\n",
    "                            u\"\\U0001F1E0-\\U0001F1FF\"  # flags (iOS)\n",
    "                            u\"\\U00002702-\\U000027B0\"\n",
    "                            u\"\\U000024C2-\\U0001F251\"\n",
    "                            \"]+\", flags=re.UNICODE)\n",
    "        return emoji_pattern.sub(r'', text)\n",
    "    \n",
    "    def remove_html(text):\n",
    "        html=re.compile(r'<.*?>')\n",
    "        return html.sub(r'',text)\n",
    "    \n",
    "    def remove_punctuation(text):\n",
    "        table=str.maketrans('','',string.punctuation)\n",
    "        return text.translate(table)\n",
    "\n",
    "    def final_preprocess(text):\n",
    "        text = text.lower()\n",
    "        text = re.sub('[^A-Za-z0-9]+', ' ', text)\n",
    "        text = ' '.join(e for e in text.split() if e.lower() not in STOPWORDS)\n",
    "        text = ps.stem(text)\n",
    "        return text\n",
    "    "
   ]
  },
  {
   "cell_type": "code",
   "execution_count": 5,
   "metadata": {},
   "outputs": [],
   "source": [
    "cleaned_df = df.copy()"
   ]
  },
  {
   "cell_type": "code",
   "execution_count": 6,
   "metadata": {},
   "outputs": [],
   "source": [
    "cleaned_df['text1_cleaned'] = cleaned_df['text1'].apply(lambda x: preprocess_text.remove_URL(x))\n",
    "cleaned_df['text1_cleaned'] = cleaned_df['text1_cleaned'].apply(lambda x: preprocess_text.remove_emoji(x))\n",
    "cleaned_df['text1_cleaned'] = cleaned_df['text1_cleaned'].apply(lambda x: preprocess_text.remove_punctuation(x))\n",
    "cleaned_df['text1_cleaned'] = cleaned_df['text1_cleaned'].apply(lambda x: preprocess_text.remove_html(x))\n",
    "cleaned_df['text1_cleaned'] = cleaned_df['text1_cleaned'].apply(lambda x: preprocess_text.final_preprocess(x))"
   ]
  },
  {
   "cell_type": "code",
   "execution_count": 7,
   "metadata": {},
   "outputs": [],
   "source": [
    "cleaned_df['text2_cleaned'] = cleaned_df['text2'].apply(lambda x: preprocess_text.remove_URL(x))\n",
    "cleaned_df['text2_cleaned'] = cleaned_df['text2_cleaned'].apply(lambda x: preprocess_text.remove_emoji(x))\n",
    "cleaned_df['text2_cleaned'] = cleaned_df['text2_cleaned'].apply(lambda x: preprocess_text.remove_punctuation(x))\n",
    "cleaned_df['text2_cleaned'] = cleaned_df['text2_cleaned'].apply(lambda x: preprocess_text.remove_html(x))\n",
    "cleaned_df['text2_cleaned'] = cleaned_df['text2_cleaned'].apply(lambda x: preprocess_text.final_preprocess(x))"
   ]
  },
  {
   "cell_type": "code",
   "execution_count": 8,
   "metadata": {},
   "outputs": [
    {
     "data": {
      "text/html": [
       "<div>\n",
       "<style scoped>\n",
       "    .dataframe tbody tr th:only-of-type {\n",
       "        vertical-align: middle;\n",
       "    }\n",
       "\n",
       "    .dataframe tbody tr th {\n",
       "        vertical-align: top;\n",
       "    }\n",
       "\n",
       "    .dataframe thead th {\n",
       "        text-align: right;\n",
       "    }\n",
       "</style>\n",
       "<table border=\"1\" class=\"dataframe\">\n",
       "  <thead>\n",
       "    <tr style=\"text-align: right;\">\n",
       "      <th></th>\n",
       "      <th>text1</th>\n",
       "      <th>text2</th>\n",
       "      <th>text1_cleaned</th>\n",
       "      <th>text2_cleaned</th>\n",
       "    </tr>\n",
       "  </thead>\n",
       "  <tbody>\n",
       "    <tr>\n",
       "      <th>0</th>\n",
       "      <td>broadband challenges tv viewing the number of ...</td>\n",
       "      <td>gardener wins double in glasgow britain s jaso...</td>\n",
       "      <td>broadband challenges tv viewing number europea...</td>\n",
       "      <td>gardener wins double glasgow britain jason gar...</td>\n",
       "    </tr>\n",
       "    <tr>\n",
       "      <th>1</th>\n",
       "      <td>rap boss arrested over drug find rap mogul mar...</td>\n",
       "      <td>amnesty chief laments war failure the lack of ...</td>\n",
       "      <td>rap boss arrested drug find rap mogul marion s...</td>\n",
       "      <td>amnesty chief laments war failure lack public ...</td>\n",
       "    </tr>\n",
       "    <tr>\n",
       "      <th>2</th>\n",
       "      <td>player burn-out worries robinson england coach...</td>\n",
       "      <td>hanks greeted at wintry premiere hollywood sta...</td>\n",
       "      <td>player burnout worries robinson england coach ...</td>\n",
       "      <td>hanks greeted wintry premiere hollywood star t...</td>\n",
       "    </tr>\n",
       "    <tr>\n",
       "      <th>3</th>\n",
       "      <td>hearts of oak 3-2 cotonsport hearts of oak set...</td>\n",
       "      <td>redford s vision of sundance despite sporting ...</td>\n",
       "      <td>hearts oak 32 cotonsport hearts oak set ghanai...</td>\n",
       "      <td>redford vision sundance despite sporting cordu...</td>\n",
       "    </tr>\n",
       "    <tr>\n",
       "      <th>4</th>\n",
       "      <td>sir paul rocks super bowl crowds sir paul mcca...</td>\n",
       "      <td>mauresmo opens with victory in la amelie maure...</td>\n",
       "      <td>sir paul rocks super bowl crowds sir paul mcca...</td>\n",
       "      <td>mauresmo opens victory la amelie mauresmo mari...</td>\n",
       "    </tr>\n",
       "    <tr>\n",
       "      <th>...</th>\n",
       "      <td>...</td>\n",
       "      <td>...</td>\n",
       "      <td>...</td>\n",
       "      <td>...</td>\n",
       "    </tr>\n",
       "    <tr>\n",
       "      <th>2995</th>\n",
       "      <td>uk directors guild nominees named martin scors...</td>\n",
       "      <td>steel firm  to cut  45 000 jobs mittal steel  ...</td>\n",
       "      <td>uk directors guild nominees named martin scors...</td>\n",
       "      <td>steel firm cut 45 000 jobs mittal steel one wo...</td>\n",
       "    </tr>\n",
       "    <tr>\n",
       "      <th>2996</th>\n",
       "      <td>u2 to play at grammy awards show irish rock ba...</td>\n",
       "      <td>israel looks to us for bank chief israel has a...</td>\n",
       "      <td>u2 play grammy awards show irish rock band u2 ...</td>\n",
       "      <td>israel looks us bank chief israel asked us ban...</td>\n",
       "    </tr>\n",
       "    <tr>\n",
       "      <th>2997</th>\n",
       "      <td>pountney handed ban and fine northampton coach...</td>\n",
       "      <td>india and iran in gas export deal india has si...</td>\n",
       "      <td>pountney handed ban fine northampton coach bud...</td>\n",
       "      <td>india iran gas export deal india signed 40bn 2...</td>\n",
       "    </tr>\n",
       "    <tr>\n",
       "      <th>2998</th>\n",
       "      <td>belle named  best scottish band  belle &amp; sebas...</td>\n",
       "      <td>mido makes third apology ahmed  mido  hossam h...</td>\n",
       "      <td>belle named best scottish band belle sebastian...</td>\n",
       "      <td>mido makes third apology ahmed mido hossam mad...</td>\n",
       "    </tr>\n",
       "    <tr>\n",
       "      <th>2999</th>\n",
       "      <td>criminal probe on citigroup deals traders at u...</td>\n",
       "      <td>former ni minister scott dies former northern ...</td>\n",
       "      <td>criminal probe citigroup deals traders us bank...</td>\n",
       "      <td>former ni minister scott dies former northern ...</td>\n",
       "    </tr>\n",
       "  </tbody>\n",
       "</table>\n",
       "<p>3000 rows × 4 columns</p>\n",
       "</div>"
      ],
      "text/plain": [
       "                                                  text1  \\\n",
       "0     broadband challenges tv viewing the number of ...   \n",
       "1     rap boss arrested over drug find rap mogul mar...   \n",
       "2     player burn-out worries robinson england coach...   \n",
       "3     hearts of oak 3-2 cotonsport hearts of oak set...   \n",
       "4     sir paul rocks super bowl crowds sir paul mcca...   \n",
       "...                                                 ...   \n",
       "2995  uk directors guild nominees named martin scors...   \n",
       "2996  u2 to play at grammy awards show irish rock ba...   \n",
       "2997  pountney handed ban and fine northampton coach...   \n",
       "2998  belle named  best scottish band  belle & sebas...   \n",
       "2999  criminal probe on citigroup deals traders at u...   \n",
       "\n",
       "                                                  text2  \\\n",
       "0     gardener wins double in glasgow britain s jaso...   \n",
       "1     amnesty chief laments war failure the lack of ...   \n",
       "2     hanks greeted at wintry premiere hollywood sta...   \n",
       "3     redford s vision of sundance despite sporting ...   \n",
       "4     mauresmo opens with victory in la amelie maure...   \n",
       "...                                                 ...   \n",
       "2995  steel firm  to cut  45 000 jobs mittal steel  ...   \n",
       "2996  israel looks to us for bank chief israel has a...   \n",
       "2997  india and iran in gas export deal india has si...   \n",
       "2998  mido makes third apology ahmed  mido  hossam h...   \n",
       "2999  former ni minister scott dies former northern ...   \n",
       "\n",
       "                                          text1_cleaned  \\\n",
       "0     broadband challenges tv viewing number europea...   \n",
       "1     rap boss arrested drug find rap mogul marion s...   \n",
       "2     player burnout worries robinson england coach ...   \n",
       "3     hearts oak 32 cotonsport hearts oak set ghanai...   \n",
       "4     sir paul rocks super bowl crowds sir paul mcca...   \n",
       "...                                                 ...   \n",
       "2995  uk directors guild nominees named martin scors...   \n",
       "2996  u2 play grammy awards show irish rock band u2 ...   \n",
       "2997  pountney handed ban fine northampton coach bud...   \n",
       "2998  belle named best scottish band belle sebastian...   \n",
       "2999  criminal probe citigroup deals traders us bank...   \n",
       "\n",
       "                                          text2_cleaned  \n",
       "0     gardener wins double glasgow britain jason gar...  \n",
       "1     amnesty chief laments war failure lack public ...  \n",
       "2     hanks greeted wintry premiere hollywood star t...  \n",
       "3     redford vision sundance despite sporting cordu...  \n",
       "4     mauresmo opens victory la amelie mauresmo mari...  \n",
       "...                                                 ...  \n",
       "2995  steel firm cut 45 000 jobs mittal steel one wo...  \n",
       "2996  israel looks us bank chief israel asked us ban...  \n",
       "2997  india iran gas export deal india signed 40bn 2...  \n",
       "2998  mido makes third apology ahmed mido hossam mad...  \n",
       "2999  former ni minister scott dies former northern ...  \n",
       "\n",
       "[3000 rows x 4 columns]"
      ]
     },
     "execution_count": 8,
     "metadata": {},
     "output_type": "execute_result"
    }
   ],
   "source": [
    "cleaned_df"
   ]
  },
  {
   "cell_type": "code",
   "execution_count": 9,
   "metadata": {},
   "outputs": [],
   "source": [
    "concat_df = cleaned_df.copy()"
   ]
  },
  {
   "cell_type": "code",
   "execution_count": 10,
   "metadata": {},
   "outputs": [
    {
     "data": {
      "text/plain": [
       "Index(['text1', 'text2', 'text1_cleaned', 'text2_cleaned'], dtype='object')"
      ]
     },
     "execution_count": 10,
     "metadata": {},
     "output_type": "execute_result"
    }
   ],
   "source": [
    "concat_df.columns"
   ]
  },
  {
   "cell_type": "code",
   "execution_count": 11,
   "metadata": {},
   "outputs": [],
   "source": [
    "def concat(text1, text2):\n",
    "    return text1+ ' ' +text2"
   ]
  },
  {
   "cell_type": "code",
   "execution_count": 12,
   "metadata": {},
   "outputs": [],
   "source": [
    "concat_df['concat_sent'] = concat_df.apply(lambda x: concat(x['text1_cleaned'],x['text2_cleaned']), axis=1)"
   ]
  },
  {
   "cell_type": "code",
   "execution_count": 13,
   "metadata": {},
   "outputs": [
    {
     "data": {
      "text/html": [
       "<div>\n",
       "<style scoped>\n",
       "    .dataframe tbody tr th:only-of-type {\n",
       "        vertical-align: middle;\n",
       "    }\n",
       "\n",
       "    .dataframe tbody tr th {\n",
       "        vertical-align: top;\n",
       "    }\n",
       "\n",
       "    .dataframe thead th {\n",
       "        text-align: right;\n",
       "    }\n",
       "</style>\n",
       "<table border=\"1\" class=\"dataframe\">\n",
       "  <thead>\n",
       "    <tr style=\"text-align: right;\">\n",
       "      <th></th>\n",
       "      <th>text1</th>\n",
       "      <th>text2</th>\n",
       "      <th>text1_cleaned</th>\n",
       "      <th>text2_cleaned</th>\n",
       "      <th>concat_sent</th>\n",
       "    </tr>\n",
       "  </thead>\n",
       "  <tbody>\n",
       "    <tr>\n",
       "      <th>0</th>\n",
       "      <td>broadband challenges tv viewing the number of ...</td>\n",
       "      <td>gardener wins double in glasgow britain s jaso...</td>\n",
       "      <td>broadband challenges tv viewing number europea...</td>\n",
       "      <td>gardener wins double glasgow britain jason gar...</td>\n",
       "      <td>broadband challenges tv viewing number europea...</td>\n",
       "    </tr>\n",
       "    <tr>\n",
       "      <th>1</th>\n",
       "      <td>rap boss arrested over drug find rap mogul mar...</td>\n",
       "      <td>amnesty chief laments war failure the lack of ...</td>\n",
       "      <td>rap boss arrested drug find rap mogul marion s...</td>\n",
       "      <td>amnesty chief laments war failure lack public ...</td>\n",
       "      <td>rap boss arrested drug find rap mogul marion s...</td>\n",
       "    </tr>\n",
       "    <tr>\n",
       "      <th>2</th>\n",
       "      <td>player burn-out worries robinson england coach...</td>\n",
       "      <td>hanks greeted at wintry premiere hollywood sta...</td>\n",
       "      <td>player burnout worries robinson england coach ...</td>\n",
       "      <td>hanks greeted wintry premiere hollywood star t...</td>\n",
       "      <td>player burnout worries robinson england coach ...</td>\n",
       "    </tr>\n",
       "    <tr>\n",
       "      <th>3</th>\n",
       "      <td>hearts of oak 3-2 cotonsport hearts of oak set...</td>\n",
       "      <td>redford s vision of sundance despite sporting ...</td>\n",
       "      <td>hearts oak 32 cotonsport hearts oak set ghanai...</td>\n",
       "      <td>redford vision sundance despite sporting cordu...</td>\n",
       "      <td>hearts oak 32 cotonsport hearts oak set ghanai...</td>\n",
       "    </tr>\n",
       "    <tr>\n",
       "      <th>4</th>\n",
       "      <td>sir paul rocks super bowl crowds sir paul mcca...</td>\n",
       "      <td>mauresmo opens with victory in la amelie maure...</td>\n",
       "      <td>sir paul rocks super bowl crowds sir paul mcca...</td>\n",
       "      <td>mauresmo opens victory la amelie mauresmo mari...</td>\n",
       "      <td>sir paul rocks super bowl crowds sir paul mcca...</td>\n",
       "    </tr>\n",
       "    <tr>\n",
       "      <th>...</th>\n",
       "      <td>...</td>\n",
       "      <td>...</td>\n",
       "      <td>...</td>\n",
       "      <td>...</td>\n",
       "      <td>...</td>\n",
       "    </tr>\n",
       "    <tr>\n",
       "      <th>2995</th>\n",
       "      <td>uk directors guild nominees named martin scors...</td>\n",
       "      <td>steel firm  to cut  45 000 jobs mittal steel  ...</td>\n",
       "      <td>uk directors guild nominees named martin scors...</td>\n",
       "      <td>steel firm cut 45 000 jobs mittal steel one wo...</td>\n",
       "      <td>uk directors guild nominees named martin scors...</td>\n",
       "    </tr>\n",
       "    <tr>\n",
       "      <th>2996</th>\n",
       "      <td>u2 to play at grammy awards show irish rock ba...</td>\n",
       "      <td>israel looks to us for bank chief israel has a...</td>\n",
       "      <td>u2 play grammy awards show irish rock band u2 ...</td>\n",
       "      <td>israel looks us bank chief israel asked us ban...</td>\n",
       "      <td>u2 play grammy awards show irish rock band u2 ...</td>\n",
       "    </tr>\n",
       "    <tr>\n",
       "      <th>2997</th>\n",
       "      <td>pountney handed ban and fine northampton coach...</td>\n",
       "      <td>india and iran in gas export deal india has si...</td>\n",
       "      <td>pountney handed ban fine northampton coach bud...</td>\n",
       "      <td>india iran gas export deal india signed 40bn 2...</td>\n",
       "      <td>pountney handed ban fine northampton coach bud...</td>\n",
       "    </tr>\n",
       "    <tr>\n",
       "      <th>2998</th>\n",
       "      <td>belle named  best scottish band  belle &amp; sebas...</td>\n",
       "      <td>mido makes third apology ahmed  mido  hossam h...</td>\n",
       "      <td>belle named best scottish band belle sebastian...</td>\n",
       "      <td>mido makes third apology ahmed mido hossam mad...</td>\n",
       "      <td>belle named best scottish band belle sebastian...</td>\n",
       "    </tr>\n",
       "    <tr>\n",
       "      <th>2999</th>\n",
       "      <td>criminal probe on citigroup deals traders at u...</td>\n",
       "      <td>former ni minister scott dies former northern ...</td>\n",
       "      <td>criminal probe citigroup deals traders us bank...</td>\n",
       "      <td>former ni minister scott dies former northern ...</td>\n",
       "      <td>criminal probe citigroup deals traders us bank...</td>\n",
       "    </tr>\n",
       "  </tbody>\n",
       "</table>\n",
       "<p>3000 rows × 5 columns</p>\n",
       "</div>"
      ],
      "text/plain": [
       "                                                  text1  \\\n",
       "0     broadband challenges tv viewing the number of ...   \n",
       "1     rap boss arrested over drug find rap mogul mar...   \n",
       "2     player burn-out worries robinson england coach...   \n",
       "3     hearts of oak 3-2 cotonsport hearts of oak set...   \n",
       "4     sir paul rocks super bowl crowds sir paul mcca...   \n",
       "...                                                 ...   \n",
       "2995  uk directors guild nominees named martin scors...   \n",
       "2996  u2 to play at grammy awards show irish rock ba...   \n",
       "2997  pountney handed ban and fine northampton coach...   \n",
       "2998  belle named  best scottish band  belle & sebas...   \n",
       "2999  criminal probe on citigroup deals traders at u...   \n",
       "\n",
       "                                                  text2  \\\n",
       "0     gardener wins double in glasgow britain s jaso...   \n",
       "1     amnesty chief laments war failure the lack of ...   \n",
       "2     hanks greeted at wintry premiere hollywood sta...   \n",
       "3     redford s vision of sundance despite sporting ...   \n",
       "4     mauresmo opens with victory in la amelie maure...   \n",
       "...                                                 ...   \n",
       "2995  steel firm  to cut  45 000 jobs mittal steel  ...   \n",
       "2996  israel looks to us for bank chief israel has a...   \n",
       "2997  india and iran in gas export deal india has si...   \n",
       "2998  mido makes third apology ahmed  mido  hossam h...   \n",
       "2999  former ni minister scott dies former northern ...   \n",
       "\n",
       "                                          text1_cleaned  \\\n",
       "0     broadband challenges tv viewing number europea...   \n",
       "1     rap boss arrested drug find rap mogul marion s...   \n",
       "2     player burnout worries robinson england coach ...   \n",
       "3     hearts oak 32 cotonsport hearts oak set ghanai...   \n",
       "4     sir paul rocks super bowl crowds sir paul mcca...   \n",
       "...                                                 ...   \n",
       "2995  uk directors guild nominees named martin scors...   \n",
       "2996  u2 play grammy awards show irish rock band u2 ...   \n",
       "2997  pountney handed ban fine northampton coach bud...   \n",
       "2998  belle named best scottish band belle sebastian...   \n",
       "2999  criminal probe citigroup deals traders us bank...   \n",
       "\n",
       "                                          text2_cleaned  \\\n",
       "0     gardener wins double glasgow britain jason gar...   \n",
       "1     amnesty chief laments war failure lack public ...   \n",
       "2     hanks greeted wintry premiere hollywood star t...   \n",
       "3     redford vision sundance despite sporting cordu...   \n",
       "4     mauresmo opens victory la amelie mauresmo mari...   \n",
       "...                                                 ...   \n",
       "2995  steel firm cut 45 000 jobs mittal steel one wo...   \n",
       "2996  israel looks us bank chief israel asked us ban...   \n",
       "2997  india iran gas export deal india signed 40bn 2...   \n",
       "2998  mido makes third apology ahmed mido hossam mad...   \n",
       "2999  former ni minister scott dies former northern ...   \n",
       "\n",
       "                                            concat_sent  \n",
       "0     broadband challenges tv viewing number europea...  \n",
       "1     rap boss arrested drug find rap mogul marion s...  \n",
       "2     player burnout worries robinson england coach ...  \n",
       "3     hearts oak 32 cotonsport hearts oak set ghanai...  \n",
       "4     sir paul rocks super bowl crowds sir paul mcca...  \n",
       "...                                                 ...  \n",
       "2995  uk directors guild nominees named martin scors...  \n",
       "2996  u2 play grammy awards show irish rock band u2 ...  \n",
       "2997  pountney handed ban fine northampton coach bud...  \n",
       "2998  belle named best scottish band belle sebastian...  \n",
       "2999  criminal probe citigroup deals traders us bank...  \n",
       "\n",
       "[3000 rows x 5 columns]"
      ]
     },
     "execution_count": 13,
     "metadata": {},
     "output_type": "execute_result"
    }
   ],
   "source": [
    "concat_df"
   ]
  },
  {
   "cell_type": "code",
   "execution_count": 14,
   "metadata": {},
   "outputs": [],
   "source": [
    "text_cleaned_list = []\n",
    "for i, row in cleaned_df.iterrows():\n",
    "    text_cleaned_list.append(row['text1_cleaned'])\n",
    "    text_cleaned_list.append(row['text2_cleaned'])"
   ]
  },
  {
   "cell_type": "code",
   "execution_count": 15,
   "metadata": {},
   "outputs": [
    {
     "data": {
      "text/plain": [
       "6000"
      ]
     },
     "execution_count": 15,
     "metadata": {},
     "output_type": "execute_result"
    }
   ],
   "source": [
    "len(text_cleaned_list)"
   ]
  },
  {
   "attachments": {},
   "cell_type": "markdown",
   "metadata": {},
   "source": [
    "## Tf-idf vectorizer"
   ]
  },
  {
   "cell_type": "code",
   "execution_count": 50,
   "metadata": {},
   "outputs": [],
   "source": [
    "from sklearn.feature_extraction.text import TfidfVectorizer\n",
    "\n",
    "tfidfvectorizer = TfidfVectorizer()\n",
    "tfidfvectorizer.fit(text_cleaned_list)\n",
    "tfidf_vectors=tfidfvectorizer.transform(text_cleaned_list)"
   ]
  },
  {
   "cell_type": "code",
   "execution_count": 17,
   "metadata": {},
   "outputs": [
    {
     "data": {
      "text/plain": [
       "(1, 27786)"
      ]
     },
     "execution_count": 17,
     "metadata": {},
     "output_type": "execute_result"
    }
   ],
   "source": [
    "arr = tfidf_vectors[54].toarray()\n",
    "arr.shape"
   ]
  },
  {
   "cell_type": "code",
   "execution_count": 18,
   "metadata": {},
   "outputs": [],
   "source": [
    "def compute_similarity(text_A, text_B):\n",
    "    tfidf = tfidfvectorizer.fit_transform([text_A, text_B])\n",
    "    return ((tfidf * tfidf.T).toarray())[0,1]"
   ]
  },
  {
   "cell_type": "code",
   "execution_count": 19,
   "metadata": {},
   "outputs": [
    {
     "name": "stdout",
     "output_type": "stream",
     "text": [
      "rap boss arrested over drug find rap mogul marion  suge  knight has been arrested for violating his parole after he was allegedly found with marijuana.  he was arrested in barstow  california  on saturday following an alleged traffic offence. he is expected to be transferred to a state prison while a decision is made on whether he should be released. mr knight  founder of death row records  served a 10-month jail term in 2004 for punching a man while on parole for an assault conviction. police said mr knight was stopped on saturday after performing an illegal u-turn and a search of his car allegedly found marijuana.  he is also accused of not having insurance. a 18-year-old woman in the car was arrested for providing false information and having a fake id card. she was later released. it was his second alleged violation  having previously served half of a nine-year sentence for breaking the terms of his parole. mr knight  39  was jailed in october 1996 following his involvement in a fight with a rival gang just hours before rapper tupac shakur was killed in a las vegas drive-by shooting. he was driving shakur s car at the time and was shot in the head. at the time he was on probation for assaulting two musicians. mr knight  a former bodyguard  set up death row records in the early 1990s with shakur and dr dre among his protegees. but the label has always been dogged by allegations it supports gang culture and fuels the east and west coast rap rivalry. \n",
      " amnesty chief laments war failure the lack of public outrage about the war on terror is a powerful indictment of the failure of human rights groups  amnesty international s chief has said.  in a lecture at the london school of economics  irene khan said human rights had been flouted in the name of security since 11 september  2001. she said the human rights movement had to use simpler language both to prevent scepticism and spread a moral message. and it had to fight poverty  not just focus on political rights for elites.  ms khan highlighted detentions without trial  including those at the us camp at guantanamo bay in cuba  and the abuse of prisoners as evidence of increasing human rights problems.  what s a new challenge is the way in which this age-old debate on security and human rights has been translated into the language of war   she said.  by using the language of war  human rights are being sidelined because we know human rights do not apply in times of war.  ms khan said such breaches were infectious and were now seen in almost very major country in the world.  the human rights movement faces a crisis of faith in the value of human rights   she said. that was accompanied by a crisis of governance  where the united nations system did not seem able to hold countries to account.  the amnesty secretary-general said a growing gap between the perceived influence of human rights group and what they could actually achieve was fuelling scepticism.  public passivity on the war against terror is the single most powerful indictment on the failures of human rights groups   she said. ms khan said the movement had failed to mobilise public outrage about what was happening to the human rights system. there needed to be a drive to use simpler language  talking about the basic morality of the issues rather than the complexity of legal processes. such efforts could make the issues more relevant to people across the world  she said.  the human rights groups also had to recognise there were new groups which had to be tackled in new ways as power dripped away from state governments. al-qaeda  for example  was not going to be impressed by a traditional amnesty letter writing campaign. more also needed to be done to develop a human rights framework for international business corporations. amnesty international members voted in 2001 to extend the organisation s work from political and civil rights to cover social and economic rights too. ms khan said the human rights movement would make itself irrelevant if it turned away from the suffering caused by economic strife.  we would be an elitist bunch working for the elites  for those who cannot read the newspaper of their choice rather than those who cannot read   she said. despite her concerns  ms khan dubbed herself a  hope-monger   saying she was confident the passions of the human rights movement could overcome the new challenges.\n"
     ]
    }
   ],
   "source": [
    "text_A = cleaned_df['text1'][1]\n",
    "text_B = cleaned_df['text2'][1]\n",
    "print(text_A, '\\n', text_B)"
   ]
  },
  {
   "cell_type": "code",
   "execution_count": 20,
   "metadata": {},
   "outputs": [],
   "source": [
    "text_A = \"nuclear body seeks new tech\"\n",
    "text_B = \"terror suspects face arrest\""
   ]
  },
  {
   "cell_type": "code",
   "execution_count": 21,
   "metadata": {},
   "outputs": [
    {
     "data": {
      "text/plain": [
       "0.0"
      ]
     },
     "execution_count": 21,
     "metadata": {},
     "output_type": "execute_result"
    }
   ],
   "source": [
    "compute_similarity(\n",
    "    text_A=text_A,\n",
    "    text_B=text_B\n",
    ")"
   ]
  },
  {
   "cell_type": "code",
   "execution_count": 22,
   "metadata": {},
   "outputs": [],
   "source": [
    "corpus_df = cleaned_df.copy()"
   ]
  },
  {
   "cell_type": "code",
   "execution_count": 23,
   "metadata": {},
   "outputs": [],
   "source": [
    "corpus_df[\"text1_length\"] = corpus_df['text1_cleaned'].apply(lambda x: len(x))\n",
    "corpus_df[\"text2_length\"] = corpus_df['text2_cleaned'].apply(lambda x: len(x))"
   ]
  },
  {
   "cell_type": "code",
   "execution_count": 24,
   "metadata": {},
   "outputs": [
    {
     "data": {
      "text/html": [
       "<div>\n",
       "<style scoped>\n",
       "    .dataframe tbody tr th:only-of-type {\n",
       "        vertical-align: middle;\n",
       "    }\n",
       "\n",
       "    .dataframe tbody tr th {\n",
       "        vertical-align: top;\n",
       "    }\n",
       "\n",
       "    .dataframe thead th {\n",
       "        text-align: right;\n",
       "    }\n",
       "</style>\n",
       "<table border=\"1\" class=\"dataframe\">\n",
       "  <thead>\n",
       "    <tr style=\"text-align: right;\">\n",
       "      <th></th>\n",
       "      <th>text1_length</th>\n",
       "      <th>text2_length</th>\n",
       "    </tr>\n",
       "  </thead>\n",
       "  <tbody>\n",
       "    <tr>\n",
       "      <th>count</th>\n",
       "      <td>3000.000000</td>\n",
       "      <td>3000.000000</td>\n",
       "    </tr>\n",
       "    <tr>\n",
       "      <th>mean</th>\n",
       "      <td>1588.324000</td>\n",
       "      <td>1602.664333</td>\n",
       "    </tr>\n",
       "    <tr>\n",
       "      <th>std</th>\n",
       "      <td>861.207935</td>\n",
       "      <td>995.043021</td>\n",
       "    </tr>\n",
       "    <tr>\n",
       "      <th>min</th>\n",
       "      <td>483.000000</td>\n",
       "      <td>340.000000</td>\n",
       "    </tr>\n",
       "    <tr>\n",
       "      <th>25%</th>\n",
       "      <td>1020.000000</td>\n",
       "      <td>1020.000000</td>\n",
       "    </tr>\n",
       "    <tr>\n",
       "      <th>50%</th>\n",
       "      <td>1415.000000</td>\n",
       "      <td>1412.000000</td>\n",
       "    </tr>\n",
       "    <tr>\n",
       "      <th>75%</th>\n",
       "      <td>1960.000000</td>\n",
       "      <td>1970.000000</td>\n",
       "    </tr>\n",
       "    <tr>\n",
       "      <th>max</th>\n",
       "      <td>11731.000000</td>\n",
       "      <td>16238.000000</td>\n",
       "    </tr>\n",
       "  </tbody>\n",
       "</table>\n",
       "</div>"
      ],
      "text/plain": [
       "       text1_length  text2_length\n",
       "count   3000.000000   3000.000000\n",
       "mean    1588.324000   1602.664333\n",
       "std      861.207935    995.043021\n",
       "min      483.000000    340.000000\n",
       "25%     1020.000000   1020.000000\n",
       "50%     1415.000000   1412.000000\n",
       "75%     1960.000000   1970.000000\n",
       "max    11731.000000  16238.000000"
      ]
     },
     "execution_count": 24,
     "metadata": {},
     "output_type": "execute_result"
    }
   ],
   "source": [
    "corpus_df.describe()"
   ]
  },
  {
   "attachments": {},
   "cell_type": "markdown",
   "metadata": {},
   "source": [
    "## Universal Sentence Encoder"
   ]
  },
  {
   "cell_type": "code",
   "execution_count": 25,
   "metadata": {},
   "outputs": [
    {
     "name": "stdout",
     "output_type": "stream",
     "text": [
      "Defaulting to user installation because normal site-packages is not writeable\n",
      "Requirement already satisfied: tensorflow-hub in /Users/subham/Library/Python/3.9/lib/python/site-packages (0.16.0)\n",
      "Requirement already satisfied: numpy>=1.12.0 in /Users/subham/Library/Python/3.9/lib/python/site-packages (from tensorflow-hub) (1.24.2)\n",
      "Requirement already satisfied: protobuf>=3.19.6 in /Users/subham/Library/Python/3.9/lib/python/site-packages (from tensorflow-hub) (4.24.0)\n",
      "\n",
      "\u001b[1m[\u001b[0m\u001b[34;49mnotice\u001b[0m\u001b[1;39;49m]\u001b[0m\u001b[39;49m A new release of pip is available: \u001b[0m\u001b[31;49m23.2.1\u001b[0m\u001b[39;49m -> \u001b[0m\u001b[32;49m23.3.2\u001b[0m\n",
      "\u001b[1m[\u001b[0m\u001b[34;49mnotice\u001b[0m\u001b[1;39;49m]\u001b[0m\u001b[39;49m To update, run: \u001b[0m\u001b[32;49m/Library/Developer/CommandLineTools/usr/bin/python3 -m pip install --upgrade pip\u001b[0m\n"
     ]
    }
   ],
   "source": [
    "!pip3 install tensorflow-hub"
   ]
  },
  {
   "cell_type": "code",
   "execution_count": 26,
   "metadata": {},
   "outputs": [],
   "source": [
    "import tensorflow as tf\n",
    "import tensorflow_hub as hub\n",
    "import numpy as np"
   ]
  },
  {
   "cell_type": "code",
   "execution_count": 27,
   "metadata": {},
   "outputs": [],
   "source": [
    "sentences = text_cleaned_list"
   ]
  },
  {
   "cell_type": "code",
   "execution_count": 28,
   "metadata": {},
   "outputs": [
    {
     "name": "stdout",
     "output_type": "stream",
     "text": [
      "module https://tfhub.dev/google/universal-sentence-encoder/4 loaded\n"
     ]
    }
   ],
   "source": [
    "module_url = \"https://tfhub.dev/google/universal-sentence-encoder/4\" \n",
    "model = hub.load(module_url)\n",
    "print (\"module %s loaded\" % module_url)"
   ]
  },
  {
   "cell_type": "code",
   "execution_count": 29,
   "metadata": {},
   "outputs": [],
   "source": [
    "def cosine(u, v):\n",
    "    return np.dot(u, v) / (np.linalg.norm(u) * np.linalg.norm(v))   "
   ]
  },
  {
   "cell_type": "code",
   "execution_count": 30,
   "metadata": {},
   "outputs": [],
   "source": [
    "sentence_embeddings = model(sentences)"
   ]
  },
  {
   "cell_type": "code",
   "execution_count": 31,
   "metadata": {},
   "outputs": [
    {
     "data": {
      "text/plain": [
       "<tf.Tensor: shape=(6000, 512), dtype=float32, numpy=\n",
       "array([[-0.05266885, -0.05390523, -0.03664007, ..., -0.018355  ,\n",
       "        -0.05436891, -0.05152677],\n",
       "       [-0.0459425 , -0.04594268,  0.04576569, ..., -0.04594246,\n",
       "        -0.04594268, -0.04594268],\n",
       "       [-0.04311096, -0.05050139,  0.05068841, ..., -0.03396839,\n",
       "        -0.05082489, -0.02649629],\n",
       "       ...,\n",
       "       [-0.05534938, -0.05555461, -0.05432957, ...,  0.03895622,\n",
       "        -0.0555934 , -0.0555934 ],\n",
       "       [-0.02564538, -0.05517934, -0.05376229, ...,  0.03088544,\n",
       "        -0.04077214, -0.03915875],\n",
       "       [ 0.04807552, -0.00065575, -0.0461446 , ...,  0.04838486,\n",
       "        -0.0483885 ,  0.04837618]], dtype=float32)>"
      ]
     },
     "execution_count": 31,
     "metadata": {},
     "output_type": "execute_result"
    }
   ],
   "source": [
    "sentence_embeddings"
   ]
  },
  {
   "cell_type": "code",
   "execution_count": 32,
   "metadata": {},
   "outputs": [
    {
     "data": {
      "text/html": [
       "<div>\n",
       "<style scoped>\n",
       "    .dataframe tbody tr th:only-of-type {\n",
       "        vertical-align: middle;\n",
       "    }\n",
       "\n",
       "    .dataframe tbody tr th {\n",
       "        vertical-align: top;\n",
       "    }\n",
       "\n",
       "    .dataframe thead th {\n",
       "        text-align: right;\n",
       "    }\n",
       "</style>\n",
       "<table border=\"1\" class=\"dataframe\">\n",
       "  <thead>\n",
       "    <tr style=\"text-align: right;\">\n",
       "      <th></th>\n",
       "      <th>text1</th>\n",
       "      <th>text2</th>\n",
       "      <th>text1_cleaned</th>\n",
       "      <th>text2_cleaned</th>\n",
       "    </tr>\n",
       "  </thead>\n",
       "  <tbody>\n",
       "    <tr>\n",
       "      <th>0</th>\n",
       "      <td>broadband challenges tv viewing the number of ...</td>\n",
       "      <td>gardener wins double in glasgow britain s jaso...</td>\n",
       "      <td>broadband challenges tv viewing number europea...</td>\n",
       "      <td>gardener wins double glasgow britain jason gar...</td>\n",
       "    </tr>\n",
       "    <tr>\n",
       "      <th>1</th>\n",
       "      <td>rap boss arrested over drug find rap mogul mar...</td>\n",
       "      <td>amnesty chief laments war failure the lack of ...</td>\n",
       "      <td>rap boss arrested drug find rap mogul marion s...</td>\n",
       "      <td>amnesty chief laments war failure lack public ...</td>\n",
       "    </tr>\n",
       "    <tr>\n",
       "      <th>2</th>\n",
       "      <td>player burn-out worries robinson england coach...</td>\n",
       "      <td>hanks greeted at wintry premiere hollywood sta...</td>\n",
       "      <td>player burnout worries robinson england coach ...</td>\n",
       "      <td>hanks greeted wintry premiere hollywood star t...</td>\n",
       "    </tr>\n",
       "    <tr>\n",
       "      <th>3</th>\n",
       "      <td>hearts of oak 3-2 cotonsport hearts of oak set...</td>\n",
       "      <td>redford s vision of sundance despite sporting ...</td>\n",
       "      <td>hearts oak 32 cotonsport hearts oak set ghanai...</td>\n",
       "      <td>redford vision sundance despite sporting cordu...</td>\n",
       "    </tr>\n",
       "    <tr>\n",
       "      <th>4</th>\n",
       "      <td>sir paul rocks super bowl crowds sir paul mcca...</td>\n",
       "      <td>mauresmo opens with victory in la amelie maure...</td>\n",
       "      <td>sir paul rocks super bowl crowds sir paul mcca...</td>\n",
       "      <td>mauresmo opens victory la amelie mauresmo mari...</td>\n",
       "    </tr>\n",
       "    <tr>\n",
       "      <th>...</th>\n",
       "      <td>...</td>\n",
       "      <td>...</td>\n",
       "      <td>...</td>\n",
       "      <td>...</td>\n",
       "    </tr>\n",
       "    <tr>\n",
       "      <th>2995</th>\n",
       "      <td>uk directors guild nominees named martin scors...</td>\n",
       "      <td>steel firm  to cut  45 000 jobs mittal steel  ...</td>\n",
       "      <td>uk directors guild nominees named martin scors...</td>\n",
       "      <td>steel firm cut 45 000 jobs mittal steel one wo...</td>\n",
       "    </tr>\n",
       "    <tr>\n",
       "      <th>2996</th>\n",
       "      <td>u2 to play at grammy awards show irish rock ba...</td>\n",
       "      <td>israel looks to us for bank chief israel has a...</td>\n",
       "      <td>u2 play grammy awards show irish rock band u2 ...</td>\n",
       "      <td>israel looks us bank chief israel asked us ban...</td>\n",
       "    </tr>\n",
       "    <tr>\n",
       "      <th>2997</th>\n",
       "      <td>pountney handed ban and fine northampton coach...</td>\n",
       "      <td>india and iran in gas export deal india has si...</td>\n",
       "      <td>pountney handed ban fine northampton coach bud...</td>\n",
       "      <td>india iran gas export deal india signed 40bn 2...</td>\n",
       "    </tr>\n",
       "    <tr>\n",
       "      <th>2998</th>\n",
       "      <td>belle named  best scottish band  belle &amp; sebas...</td>\n",
       "      <td>mido makes third apology ahmed  mido  hossam h...</td>\n",
       "      <td>belle named best scottish band belle sebastian...</td>\n",
       "      <td>mido makes third apology ahmed mido hossam mad...</td>\n",
       "    </tr>\n",
       "    <tr>\n",
       "      <th>2999</th>\n",
       "      <td>criminal probe on citigroup deals traders at u...</td>\n",
       "      <td>former ni minister scott dies former northern ...</td>\n",
       "      <td>criminal probe citigroup deals traders us bank...</td>\n",
       "      <td>former ni minister scott dies former northern ...</td>\n",
       "    </tr>\n",
       "  </tbody>\n",
       "</table>\n",
       "<p>3000 rows × 4 columns</p>\n",
       "</div>"
      ],
      "text/plain": [
       "                                                  text1  \\\n",
       "0     broadband challenges tv viewing the number of ...   \n",
       "1     rap boss arrested over drug find rap mogul mar...   \n",
       "2     player burn-out worries robinson england coach...   \n",
       "3     hearts of oak 3-2 cotonsport hearts of oak set...   \n",
       "4     sir paul rocks super bowl crowds sir paul mcca...   \n",
       "...                                                 ...   \n",
       "2995  uk directors guild nominees named martin scors...   \n",
       "2996  u2 to play at grammy awards show irish rock ba...   \n",
       "2997  pountney handed ban and fine northampton coach...   \n",
       "2998  belle named  best scottish band  belle & sebas...   \n",
       "2999  criminal probe on citigroup deals traders at u...   \n",
       "\n",
       "                                                  text2  \\\n",
       "0     gardener wins double in glasgow britain s jaso...   \n",
       "1     amnesty chief laments war failure the lack of ...   \n",
       "2     hanks greeted at wintry premiere hollywood sta...   \n",
       "3     redford s vision of sundance despite sporting ...   \n",
       "4     mauresmo opens with victory in la amelie maure...   \n",
       "...                                                 ...   \n",
       "2995  steel firm  to cut  45 000 jobs mittal steel  ...   \n",
       "2996  israel looks to us for bank chief israel has a...   \n",
       "2997  india and iran in gas export deal india has si...   \n",
       "2998  mido makes third apology ahmed  mido  hossam h...   \n",
       "2999  former ni minister scott dies former northern ...   \n",
       "\n",
       "                                          text1_cleaned  \\\n",
       "0     broadband challenges tv viewing number europea...   \n",
       "1     rap boss arrested drug find rap mogul marion s...   \n",
       "2     player burnout worries robinson england coach ...   \n",
       "3     hearts oak 32 cotonsport hearts oak set ghanai...   \n",
       "4     sir paul rocks super bowl crowds sir paul mcca...   \n",
       "...                                                 ...   \n",
       "2995  uk directors guild nominees named martin scors...   \n",
       "2996  u2 play grammy awards show irish rock band u2 ...   \n",
       "2997  pountney handed ban fine northampton coach bud...   \n",
       "2998  belle named best scottish band belle sebastian...   \n",
       "2999  criminal probe citigroup deals traders us bank...   \n",
       "\n",
       "                                          text2_cleaned  \n",
       "0     gardener wins double glasgow britain jason gar...  \n",
       "1     amnesty chief laments war failure lack public ...  \n",
       "2     hanks greeted wintry premiere hollywood star t...  \n",
       "3     redford vision sundance despite sporting cordu...  \n",
       "4     mauresmo opens victory la amelie mauresmo mari...  \n",
       "...                                                 ...  \n",
       "2995  steel firm cut 45 000 jobs mittal steel one wo...  \n",
       "2996  israel looks us bank chief israel asked us ban...  \n",
       "2997  india iran gas export deal india signed 40bn 2...  \n",
       "2998  mido makes third apology ahmed mido hossam mad...  \n",
       "2999  former ni minister scott dies former northern ...  \n",
       "\n",
       "[3000 rows x 4 columns]"
      ]
     },
     "execution_count": 32,
     "metadata": {},
     "output_type": "execute_result"
    }
   ],
   "source": [
    "cleaned_df"
   ]
  },
  {
   "cell_type": "code",
   "execution_count": null,
   "metadata": {},
   "outputs": [],
   "source": [
    "def embed(sent):\n",
    "    return model([sent])[0]"
   ]
  },
  {
   "cell_type": "code",
   "execution_count": 33,
   "metadata": {},
   "outputs": [],
   "source": [
    "query = cleaned_df['text2'][2996]\n",
    "req_vec = cleaned_df['text2'][2997]\n",
    "query_vec = embed(query)"
   ]
  },
  {
   "cell_type": "code",
   "execution_count": 34,
   "metadata": {},
   "outputs": [
    {
     "data": {
      "text/plain": [
       "0.3982382"
      ]
     },
     "execution_count": 34,
     "metadata": {},
     "output_type": "execute_result"
    }
   ],
   "source": [
    "cosine(query_vec, embed(req_vec))"
   ]
  },
  {
   "attachments": {},
   "cell_type": "markdown",
   "metadata": {},
   "source": [
    "## Glove Embedding\n"
   ]
  },
  {
   "cell_type": "code",
   "execution_count": 61,
   "metadata": {},
   "outputs": [],
   "source": [
    "embeddings_index = {}\n",
    "f = open('glove.6B.300d.txt')\n",
    "for line in f:\n",
    "    values = line.split(' ')\n",
    "    word = values[0] ## The first entry is the word\n",
    "    coefs = np.asarray(values[1:], dtype='float32') ## These are the vectors representing the embedding for the word\n",
    "    embeddings_index[word] = coefs\n",
    "f.close()"
   ]
  },
  {
   "cell_type": "code",
   "execution_count": 62,
   "metadata": {},
   "outputs": [],
   "source": [
    "glove_words =  set(embeddings_index.keys())"
   ]
  },
  {
   "cell_type": "code",
   "execution_count": 65,
   "metadata": {},
   "outputs": [],
   "source": [
    "def convert_sen_to_vec(sentence):\n",
    "    vector = np.zeros(300) # as word vectors are of zero length\n",
    "    cnt_words =0; # num of words with a valid vector in the sentence\n",
    "    for word in sentence.split():\n",
    "        if word in glove_words:\n",
    "            vector += embeddings_index[word]\n",
    "            cnt_words += 1\n",
    "    if cnt_words != 0:\n",
    "        vector /= cnt_words\n",
    "    return vector"
   ]
  },
  {
   "cell_type": "code",
   "execution_count": 67,
   "metadata": {},
   "outputs": [],
   "source": [
    "sent1 = cleaned_df['text1'][2995]\n",
    "sent2 = cleaned_df['text2'][2]"
   ]
  },
  {
   "cell_type": "code",
   "execution_count": 68,
   "metadata": {},
   "outputs": [],
   "source": [
    "query_vec = convert_sen_to_vec(sent1)\n",
    "req_vec = convert_sen_to_vec(sent2)"
   ]
  },
  {
   "cell_type": "code",
   "execution_count": 69,
   "metadata": {},
   "outputs": [
    {
     "data": {
      "text/plain": [
       "0.9612277051548735"
      ]
     },
     "execution_count": 69,
     "metadata": {},
     "output_type": "execute_result"
    }
   ],
   "source": [
    "cosine(query_vec, req_vec)"
   ]
  },
  {
   "attachments": {},
   "cell_type": "markdown",
   "metadata": {},
   "source": [
    "## n-gram TF-IDF"
   ]
  },
  {
   "cell_type": "code",
   "execution_count": 52,
   "metadata": {},
   "outputs": [],
   "source": [
    "from sklearn.feature_extraction.text import TfidfVectorizer\n",
    "\n",
    "tfidfvectorizer_ngram = TfidfVectorizer(ngram_range=(2, 3))\n",
    "tfidfvectorizer_ngram.fit(text_cleaned_list)\n",
    "tfidf_vectors=tfidfvectorizer_ngram.transform(text_cleaned_list)"
   ]
  },
  {
   "cell_type": "code",
   "execution_count": 43,
   "metadata": {},
   "outputs": [
    {
     "data": {
      "text/plain": [
       "(1, 544109)"
      ]
     },
     "execution_count": 43,
     "metadata": {},
     "output_type": "execute_result"
    }
   ],
   "source": [
    "arr = tfidf_vectors[54].toarray()\n",
    "arr.shape"
   ]
  },
  {
   "cell_type": "code",
   "execution_count": 51,
   "metadata": {},
   "outputs": [],
   "source": [
    "def compute_similarity(text_A, text_B):\n",
    "    tfidf = tfidfvectorizer.fit_transform([text_A, text_B])\n",
    "    return ((tfidf * tfidf.T).toarray())[0,1]"
   ]
  },
  {
   "cell_type": "code",
   "execution_count": 53,
   "metadata": {},
   "outputs": [],
   "source": [
    "def compute_ngram_similarity(text_A, text_B):\n",
    "    tfidf = tfidfvectorizer_ngram.fit_transform([text_A, text_B])\n",
    "    return ((tfidf * tfidf.T).toarray())[0,1]"
   ]
  },
  {
   "cell_type": "code",
   "execution_count": 45,
   "metadata": {},
   "outputs": [
    {
     "data": {
      "text/html": [
       "<div>\n",
       "<style scoped>\n",
       "    .dataframe tbody tr th:only-of-type {\n",
       "        vertical-align: middle;\n",
       "    }\n",
       "\n",
       "    .dataframe tbody tr th {\n",
       "        vertical-align: top;\n",
       "    }\n",
       "\n",
       "    .dataframe thead th {\n",
       "        text-align: right;\n",
       "    }\n",
       "</style>\n",
       "<table border=\"1\" class=\"dataframe\">\n",
       "  <thead>\n",
       "    <tr style=\"text-align: right;\">\n",
       "      <th></th>\n",
       "      <th>text1</th>\n",
       "      <th>text2</th>\n",
       "    </tr>\n",
       "  </thead>\n",
       "  <tbody>\n",
       "    <tr>\n",
       "      <th>0</th>\n",
       "      <td>broadband challenges tv viewing the number of ...</td>\n",
       "      <td>gardener wins double in glasgow britain s jaso...</td>\n",
       "    </tr>\n",
       "    <tr>\n",
       "      <th>1</th>\n",
       "      <td>rap boss arrested over drug find rap mogul mar...</td>\n",
       "      <td>amnesty chief laments war failure the lack of ...</td>\n",
       "    </tr>\n",
       "    <tr>\n",
       "      <th>2</th>\n",
       "      <td>player burn-out worries robinson england coach...</td>\n",
       "      <td>hanks greeted at wintry premiere hollywood sta...</td>\n",
       "    </tr>\n",
       "    <tr>\n",
       "      <th>3</th>\n",
       "      <td>hearts of oak 3-2 cotonsport hearts of oak set...</td>\n",
       "      <td>redford s vision of sundance despite sporting ...</td>\n",
       "    </tr>\n",
       "    <tr>\n",
       "      <th>4</th>\n",
       "      <td>sir paul rocks super bowl crowds sir paul mcca...</td>\n",
       "      <td>mauresmo opens with victory in la amelie maure...</td>\n",
       "    </tr>\n",
       "    <tr>\n",
       "      <th>...</th>\n",
       "      <td>...</td>\n",
       "      <td>...</td>\n",
       "    </tr>\n",
       "    <tr>\n",
       "      <th>2995</th>\n",
       "      <td>uk directors guild nominees named martin scors...</td>\n",
       "      <td>steel firm  to cut  45 000 jobs mittal steel  ...</td>\n",
       "    </tr>\n",
       "    <tr>\n",
       "      <th>2996</th>\n",
       "      <td>u2 to play at grammy awards show irish rock ba...</td>\n",
       "      <td>israel looks to us for bank chief israel has a...</td>\n",
       "    </tr>\n",
       "    <tr>\n",
       "      <th>2997</th>\n",
       "      <td>pountney handed ban and fine northampton coach...</td>\n",
       "      <td>india and iran in gas export deal india has si...</td>\n",
       "    </tr>\n",
       "    <tr>\n",
       "      <th>2998</th>\n",
       "      <td>belle named  best scottish band  belle &amp; sebas...</td>\n",
       "      <td>mido makes third apology ahmed  mido  hossam h...</td>\n",
       "    </tr>\n",
       "    <tr>\n",
       "      <th>2999</th>\n",
       "      <td>criminal probe on citigroup deals traders at u...</td>\n",
       "      <td>former ni minister scott dies former northern ...</td>\n",
       "    </tr>\n",
       "  </tbody>\n",
       "</table>\n",
       "<p>3000 rows × 2 columns</p>\n",
       "</div>"
      ],
      "text/plain": [
       "                                                  text1  \\\n",
       "0     broadband challenges tv viewing the number of ...   \n",
       "1     rap boss arrested over drug find rap mogul mar...   \n",
       "2     player burn-out worries robinson england coach...   \n",
       "3     hearts of oak 3-2 cotonsport hearts of oak set...   \n",
       "4     sir paul rocks super bowl crowds sir paul mcca...   \n",
       "...                                                 ...   \n",
       "2995  uk directors guild nominees named martin scors...   \n",
       "2996  u2 to play at grammy awards show irish rock ba...   \n",
       "2997  pountney handed ban and fine northampton coach...   \n",
       "2998  belle named  best scottish band  belle & sebas...   \n",
       "2999  criminal probe on citigroup deals traders at u...   \n",
       "\n",
       "                                                  text2  \n",
       "0     gardener wins double in glasgow britain s jaso...  \n",
       "1     amnesty chief laments war failure the lack of ...  \n",
       "2     hanks greeted at wintry premiere hollywood sta...  \n",
       "3     redford s vision of sundance despite sporting ...  \n",
       "4     mauresmo opens with victory in la amelie maure...  \n",
       "...                                                 ...  \n",
       "2995  steel firm  to cut  45 000 jobs mittal steel  ...  \n",
       "2996  israel looks to us for bank chief israel has a...  \n",
       "2997  india and iran in gas export deal india has si...  \n",
       "2998  mido makes third apology ahmed  mido  hossam h...  \n",
       "2999  former ni minister scott dies former northern ...  \n",
       "\n",
       "[3000 rows x 2 columns]"
      ]
     },
     "execution_count": 45,
     "metadata": {},
     "output_type": "execute_result"
    }
   ],
   "source": [
    "df"
   ]
  },
  {
   "cell_type": "code",
   "execution_count": 46,
   "metadata": {},
   "outputs": [
    {
     "name": "stdout",
     "output_type": "stream",
     "text": [
      "israel looks to us for bank chief israel has asked a us banker and former international monetary fund director to run its central bank.  stanley fischer  vice chairman of banking giant citigroup  has agreed to take the bank of israel job subject to approval from parliament and cabinet. his nomination by prime minister ariel sharon came as a surprise  and led to gains on the tel aviv stock market. mr fischer  who speaks fluent hebrew  will have to become an israeli citizen to take the job. the us says he will not have to give up us citizenship to do so.  previous incumbent david klein  who often argued with the finance ministry  steps down on 16 january. mr fischer will face a delicate balancing act - both in political and economic terms - between mr sharon and finance minister binyamin netanyahu  who also backed his nomination. but his appointment has also raised hopes that it could bring in fresh investment - and perhaps even an improvement in the country s credit rating mr fischer first went to israel for six months in 1973  and almost emigrated there before deciding finally to return to the us. while teaching at the massachussetts institute of technology he spent a month seconded to the bank of israel in 1979  beginning a long-time involvement in studying israel s economy. in 1983 mr fischer became adviser on israel s economy to then-us secretary of state george shultz. at the world bank in 1985  he participated in drawing up an economic stabilisation package for israel. \n",
      " india and iran in gas export deal india has signed a $40bn (£21bn) deal to import millions of tonnes of liquefied natural gas from iran.  firms led by the oil & natural gas corporation (ongc) will also assist in the development of iranian oil fields. ministers  eager to gain access to energy supplies to meet the demands of a booming economy  secured a similar deal to one between iran and china. the announcement comes as ongc said it was in talks to buy former assets of troubled russian oil firm yukos. the agreements with iran were sealed after talks in new delhi between middle east producers and asia s biggest energy consumers - china  india  japan and south korea.  iran - opec s second-biggest oil producer and one of the world s top gas producers - has been pursuing a series of deals  rewarding lng buyers with participation in development of its oil fields. under the agreement  it will supply india with 7.5 million tonnes of lpg annually over a 25 year period from 2009. ongc and the national iranian oil company (nioc) reached a preliminary deal for indian firms to take part in the development of the yadavaran and jufeyr oilfields  both countries said in a statement. india s oil production has stagnated over recent years  and it is having to look abroad to secure future supplies. india imports about 70% of its total oil consumption. consumption has jumped to 2.4 million barrels per day  compared with 474 000 bpd in 1973.\n"
     ]
    }
   ],
   "source": [
    "text_A = cleaned_df['text2'][2996]\n",
    "text_B = cleaned_df['text2'][2997]\n",
    "print(text_A, '\\n', text_B)"
   ]
  },
  {
   "cell_type": "code",
   "execution_count": 47,
   "metadata": {},
   "outputs": [
    {
     "data": {
      "text/plain": [
       "0.005918349931954614"
      ]
     },
     "execution_count": 47,
     "metadata": {},
     "output_type": "execute_result"
    }
   ],
   "source": [
    "compute_similarity(\n",
    "    text_A=text_A,\n",
    "    text_B=text_B\n",
    ")"
   ]
  },
  {
   "cell_type": "code",
   "execution_count": 87,
   "metadata": {},
   "outputs": [],
   "source": [
    "semantically_similar_pairs = {\n",
    "    'text1': [\n",
    "        'The cat is on the mat.',\n",
    "        'The sun sets in the west.',\n",
    "        'She enjoys reading books.',\n",
    "        'The car raced down the highway.',\n",
    "        'He plays the guitar skillfully.',\n",
    "        'Rainbows are a beautiful natural phenomenon.',\n",
    "        'The coffee shop is crowded with people.',\n",
    "        'Learning a new language takes time and effort.'\n",
    "    ],\n",
    "    'text2': [\n",
    "        'A mat is where the cat is sitting.',\n",
    "        'In the west, the sun goes down.',\n",
    "        'Reading books is something she finds enjoyable.',\n",
    "        'The vehicle sped along the freeway.',\n",
    "        'Playing the guitar is something he does with great skill.',\n",
    "        'The beauty of rainbows is a natural wonder.',\n",
    "        'People fill the coffee shop, creating a crowded atmosphere.',\n",
    "        'It requires both time and effort to learn a new language.'\n",
    "    ]\n",
    "}"
   ]
  },
  {
   "cell_type": "code",
   "execution_count": 88,
   "metadata": {},
   "outputs": [],
   "source": [
    "semantically_dissimilar_pairs = {\n",
    "    'text1': [\n",
    "        'The moon orbits the Earth.',\n",
    "        'Mathematics involves complex calculations.',\n",
    "        'Water boils at 100 degrees Celsius.',\n",
    "        'The company announced a new product launch.',\n",
    "        'Exercise is important for maintaining good health.',\n",
    "        'Winter often brings snow and cold temperatures.',\n",
    "        'Shakespeare wrote many famous plays and sonnets.',\n",
    "        'Cooking requires a combination of ingredients and techniques.'\n",
    "    ],\n",
    "    'text2': [\n",
    "        'Apples are a delicious fruit.',\n",
    "        'Birds migrate during the changing seasons.',\n",
    "        'Music is a form of artistic expression.',\n",
    "        'Elephants are the largest land mammals.',\n",
    "        'The Eiffel Tower is a famous landmark in Paris.',\n",
    "        'Computers use binary code to process information.',\n",
    "        'Ocean currents influence global weather patterns.',\n",
    "        'The concept of time is a human construct.'\n",
    "    ]\n",
    "}"
   ]
  },
  {
   "cell_type": "code",
   "execution_count": 89,
   "metadata": {},
   "outputs": [
    {
     "data": {
      "text/html": [
       "<div>\n",
       "<style scoped>\n",
       "    .dataframe tbody tr th:only-of-type {\n",
       "        vertical-align: middle;\n",
       "    }\n",
       "\n",
       "    .dataframe tbody tr th {\n",
       "        vertical-align: top;\n",
       "    }\n",
       "\n",
       "    .dataframe thead th {\n",
       "        text-align: right;\n",
       "    }\n",
       "</style>\n",
       "<table border=\"1\" class=\"dataframe\">\n",
       "  <thead>\n",
       "    <tr style=\"text-align: right;\">\n",
       "      <th></th>\n",
       "      <th>text1</th>\n",
       "      <th>text2</th>\n",
       "    </tr>\n",
       "  </thead>\n",
       "  <tbody>\n",
       "    <tr>\n",
       "      <th>0</th>\n",
       "      <td>The cat is on the mat.</td>\n",
       "      <td>A mat is where the cat is sitting.</td>\n",
       "    </tr>\n",
       "    <tr>\n",
       "      <th>1</th>\n",
       "      <td>The sun sets in the west.</td>\n",
       "      <td>In the west, the sun goes down.</td>\n",
       "    </tr>\n",
       "    <tr>\n",
       "      <th>2</th>\n",
       "      <td>She enjoys reading books.</td>\n",
       "      <td>Reading books is something she finds enjoyable.</td>\n",
       "    </tr>\n",
       "    <tr>\n",
       "      <th>3</th>\n",
       "      <td>The car raced down the highway.</td>\n",
       "      <td>The vehicle sped along the freeway.</td>\n",
       "    </tr>\n",
       "    <tr>\n",
       "      <th>4</th>\n",
       "      <td>He plays the guitar skillfully.</td>\n",
       "      <td>Playing the guitar is something he does with g...</td>\n",
       "    </tr>\n",
       "    <tr>\n",
       "      <th>5</th>\n",
       "      <td>Rainbows are a beautiful natural phenomenon.</td>\n",
       "      <td>The beauty of rainbows is a natural wonder.</td>\n",
       "    </tr>\n",
       "    <tr>\n",
       "      <th>6</th>\n",
       "      <td>The coffee shop is crowded with people.</td>\n",
       "      <td>People fill the coffee shop, creating a crowde...</td>\n",
       "    </tr>\n",
       "    <tr>\n",
       "      <th>7</th>\n",
       "      <td>Learning a new language takes time and effort.</td>\n",
       "      <td>It requires both time and effort to learn a ne...</td>\n",
       "    </tr>\n",
       "  </tbody>\n",
       "</table>\n",
       "</div>"
      ],
      "text/plain": [
       "                                            text1  \\\n",
       "0                          The cat is on the mat.   \n",
       "1                       The sun sets in the west.   \n",
       "2                       She enjoys reading books.   \n",
       "3                 The car raced down the highway.   \n",
       "4                 He plays the guitar skillfully.   \n",
       "5    Rainbows are a beautiful natural phenomenon.   \n",
       "6         The coffee shop is crowded with people.   \n",
       "7  Learning a new language takes time and effort.   \n",
       "\n",
       "                                               text2  \n",
       "0                 A mat is where the cat is sitting.  \n",
       "1                    In the west, the sun goes down.  \n",
       "2    Reading books is something she finds enjoyable.  \n",
       "3                The vehicle sped along the freeway.  \n",
       "4  Playing the guitar is something he does with g...  \n",
       "5        The beauty of rainbows is a natural wonder.  \n",
       "6  People fill the coffee shop, creating a crowde...  \n",
       "7  It requires both time and effort to learn a ne...  "
      ]
     },
     "execution_count": 89,
     "metadata": {},
     "output_type": "execute_result"
    }
   ],
   "source": [
    "sim_df = pd.DataFrame(semantically_similar_pairs)\n",
    "sim_df"
   ]
  },
  {
   "cell_type": "code",
   "execution_count": 90,
   "metadata": {},
   "outputs": [
    {
     "data": {
      "text/html": [
       "<div>\n",
       "<style scoped>\n",
       "    .dataframe tbody tr th:only-of-type {\n",
       "        vertical-align: middle;\n",
       "    }\n",
       "\n",
       "    .dataframe tbody tr th {\n",
       "        vertical-align: top;\n",
       "    }\n",
       "\n",
       "    .dataframe thead th {\n",
       "        text-align: right;\n",
       "    }\n",
       "</style>\n",
       "<table border=\"1\" class=\"dataframe\">\n",
       "  <thead>\n",
       "    <tr style=\"text-align: right;\">\n",
       "      <th></th>\n",
       "      <th>text1</th>\n",
       "      <th>text2</th>\n",
       "    </tr>\n",
       "  </thead>\n",
       "  <tbody>\n",
       "    <tr>\n",
       "      <th>0</th>\n",
       "      <td>The moon orbits the Earth.</td>\n",
       "      <td>Apples are a delicious fruit.</td>\n",
       "    </tr>\n",
       "    <tr>\n",
       "      <th>1</th>\n",
       "      <td>Mathematics involves complex calculations.</td>\n",
       "      <td>Birds migrate during the changing seasons.</td>\n",
       "    </tr>\n",
       "    <tr>\n",
       "      <th>2</th>\n",
       "      <td>Water boils at 100 degrees Celsius.</td>\n",
       "      <td>Music is a form of artistic expression.</td>\n",
       "    </tr>\n",
       "    <tr>\n",
       "      <th>3</th>\n",
       "      <td>The company announced a new product launch.</td>\n",
       "      <td>Elephants are the largest land mammals.</td>\n",
       "    </tr>\n",
       "    <tr>\n",
       "      <th>4</th>\n",
       "      <td>Exercise is important for maintaining good hea...</td>\n",
       "      <td>The Eiffel Tower is a famous landmark in Paris.</td>\n",
       "    </tr>\n",
       "    <tr>\n",
       "      <th>5</th>\n",
       "      <td>Winter often brings snow and cold temperatures.</td>\n",
       "      <td>Computers use binary code to process information.</td>\n",
       "    </tr>\n",
       "    <tr>\n",
       "      <th>6</th>\n",
       "      <td>Shakespeare wrote many famous plays and sonnets.</td>\n",
       "      <td>Ocean currents influence global weather patterns.</td>\n",
       "    </tr>\n",
       "    <tr>\n",
       "      <th>7</th>\n",
       "      <td>Cooking requires a combination of ingredients ...</td>\n",
       "      <td>The concept of time is a human construct.</td>\n",
       "    </tr>\n",
       "  </tbody>\n",
       "</table>\n",
       "</div>"
      ],
      "text/plain": [
       "                                               text1  \\\n",
       "0                         The moon orbits the Earth.   \n",
       "1         Mathematics involves complex calculations.   \n",
       "2                Water boils at 100 degrees Celsius.   \n",
       "3        The company announced a new product launch.   \n",
       "4  Exercise is important for maintaining good hea...   \n",
       "5    Winter often brings snow and cold temperatures.   \n",
       "6   Shakespeare wrote many famous plays and sonnets.   \n",
       "7  Cooking requires a combination of ingredients ...   \n",
       "\n",
       "                                               text2  \n",
       "0                      Apples are a delicious fruit.  \n",
       "1         Birds migrate during the changing seasons.  \n",
       "2            Music is a form of artistic expression.  \n",
       "3            Elephants are the largest land mammals.  \n",
       "4    The Eiffel Tower is a famous landmark in Paris.  \n",
       "5  Computers use binary code to process information.  \n",
       "6  Ocean currents influence global weather patterns.  \n",
       "7          The concept of time is a human construct.  "
      ]
     },
     "execution_count": 90,
     "metadata": {},
     "output_type": "execute_result"
    }
   ],
   "source": [
    "dissim_df = pd.DataFrame(semantically_dissimilar_pairs)\n",
    "dissim_df"
   ]
  },
  {
   "cell_type": "code",
   "execution_count": 99,
   "metadata": {},
   "outputs": [
    {
     "name": "stdout",
     "output_type": "stream",
     "text": [
      "The cat is on the mat. \n",
      " A mat is where the cat is sitting.\n"
     ]
    },
    {
     "data": {
      "text/plain": [
       "0.6052095209431789"
      ]
     },
     "execution_count": 99,
     "metadata": {},
     "output_type": "execute_result"
    }
   ],
   "source": [
    "text1 = sim_df['text1'][0]\n",
    "text2 = sim_df['text2'][0]\n",
    "print(text1, '\\n', text2)\n",
    "compute_similarity(text1, text2)"
   ]
  },
  {
   "cell_type": "code",
   "execution_count": 128,
   "metadata": {},
   "outputs": [],
   "source": [
    "cum_sim_score = 0\n",
    "for i, row in sim_df.iterrows():\n",
    "    text1 = row['text1']\n",
    "    text2 = row['text2']\n",
    "    sim_score = compute_similarity(text1, text2)\n",
    "    cum_sim_score += sim_score\n",
    "avg_tfidf_sim_score = np.round(cum_sim_score/sim_df.shape[0]*100, 2)"
   ]
  },
  {
   "cell_type": "code",
   "execution_count": 129,
   "metadata": {},
   "outputs": [
    {
     "data": {
      "text/plain": [
       "43.46"
      ]
     },
     "execution_count": 129,
     "metadata": {},
     "output_type": "execute_result"
    }
   ],
   "source": [
    "avg_tfidf_sim_score"
   ]
  },
  {
   "cell_type": "code",
   "execution_count": 150,
   "metadata": {},
   "outputs": [],
   "source": [
    "cum_dissim_score = 0\n",
    "for i, row in dissim_df.iterrows():\n",
    "    text1 = row['text1']\n",
    "    text2 = row['text2']\n",
    "    dissim_score = compute_similarity(text1, text2)\n",
    "    cum_dissim_score += dissim_score\n",
    "avg_tfidf_dissim_score = np.round(cum_dissim_score/dissim_df.shape[0]*100, 2)"
   ]
  },
  {
   "cell_type": "code",
   "execution_count": 151,
   "metadata": {},
   "outputs": [
    {
     "data": {
      "text/plain": [
       "3.03"
      ]
     },
     "execution_count": 151,
     "metadata": {},
     "output_type": "execute_result"
    }
   ],
   "source": [
    "avg_tfidf_dissim_score"
   ]
  },
  {
   "cell_type": "code",
   "execution_count": 132,
   "metadata": {},
   "outputs": [],
   "source": [
    "cum_sim_score = 0\n",
    "for i, row in sim_df.iterrows():\n",
    "    text1 = row['text1']\n",
    "    text2 = row['text2']\n",
    "    sim_score = compute_ngram_similarity(text1, text2)\n",
    "    cum_sim_score += sim_score\n",
    "avg_tfidf_ngram_sim_score = np.round(cum_sim_score/sim_df.shape[0]*100, 2)"
   ]
  },
  {
   "cell_type": "code",
   "execution_count": 133,
   "metadata": {},
   "outputs": [
    {
     "data": {
      "text/plain": [
       "10.94"
      ]
     },
     "execution_count": 133,
     "metadata": {},
     "output_type": "execute_result"
    }
   ],
   "source": [
    "avg_tfidf_ngram_sim_score"
   ]
  },
  {
   "cell_type": "code",
   "execution_count": 152,
   "metadata": {},
   "outputs": [],
   "source": [
    "cum_dissim_score = 0\n",
    "for i, row in dissim_df.iterrows():\n",
    "    text1 = row['text1']\n",
    "    text2 = row['text2']\n",
    "    dissim_score = compute_ngram_similarity(text1, text2)\n",
    "    cum_dissim_score += dissim_score\n",
    "avg_tfidf_ngram_dissim_score = np.round(cum_dissim_score/dissim_df.shape[0]*100, 2)"
   ]
  },
  {
   "cell_type": "code",
   "execution_count": 153,
   "metadata": {},
   "outputs": [
    {
     "data": {
      "text/plain": [
       "0.0"
      ]
     },
     "execution_count": 153,
     "metadata": {},
     "output_type": "execute_result"
    }
   ],
   "source": [
    "avg_tfidf_ngram_dissim_score"
   ]
  },
  {
   "cell_type": "code",
   "execution_count": 136,
   "metadata": {},
   "outputs": [],
   "source": [
    "cum_sim_score = 0\n",
    "for i, row in sim_df.iterrows():\n",
    "    text1 = row['text1']\n",
    "    text2 = row['text2']\n",
    "    use_emb1 = model([text1])[0]\n",
    "    use_emb2 = model([text2])[0]\n",
    "    sim_score = cosine(use_emb1, use_emb2)\n",
    "    cum_sim_score += sim_score\n",
    "avg_use_sim_score = np.round(cum_sim_score/sim_df.shape[0]*100, 2)"
   ]
  },
  {
   "cell_type": "code",
   "execution_count": 137,
   "metadata": {},
   "outputs": [
    {
     "data": {
      "text/plain": [
       "74.8"
      ]
     },
     "execution_count": 137,
     "metadata": {},
     "output_type": "execute_result"
    }
   ],
   "source": [
    "avg_use_sim_score"
   ]
  },
  {
   "cell_type": "code",
   "execution_count": 154,
   "metadata": {},
   "outputs": [],
   "source": [
    "cum_dissim_score = 0\n",
    "for i, row in dissim_df.iterrows():\n",
    "    text1 = row['text1']\n",
    "    text2 = row['text2']\n",
    "    use_emb1 = model([text1])[0]\n",
    "    use_emb2 = model([text2])[0]\n",
    "    dissim_score = cosine(use_emb1, use_emb2)\n",
    "    cum_dissim_score += dissim_score\n",
    "avg_use_dissim_score = np.round(cum_dissim_score/dissim_df.shape[0]*100, 2)"
   ]
  },
  {
   "cell_type": "code",
   "execution_count": 155,
   "metadata": {},
   "outputs": [
    {
     "data": {
      "text/plain": [
       "8.09"
      ]
     },
     "execution_count": 155,
     "metadata": {},
     "output_type": "execute_result"
    }
   ],
   "source": [
    "avg_use_dissim_score"
   ]
  },
  {
   "cell_type": "code",
   "execution_count": 140,
   "metadata": {},
   "outputs": [],
   "source": [
    "cum_sim_score = 0\n",
    "for i, row in sim_df.iterrows():\n",
    "    try:\n",
    "        text1 = row['text1']\n",
    "        text2 = row['text2']\n",
    "        use_emb1 = convert_sen_to_vec(text1)\n",
    "        use_emb2 = convert_sen_to_vec(text2)\n",
    "        sim_score = cosine(use_emb1, use_emb2)\n",
    "        cum_sim_score += sim_score\n",
    "    except:\n",
    "        continue\n",
    "    avg_glove_sim_score = np.round(cum_sim_score/sim_df.shape[0]*100, 2)"
   ]
  },
  {
   "cell_type": "code",
   "execution_count": 141,
   "metadata": {},
   "outputs": [
    {
     "data": {
      "text/plain": [
       "79.34"
      ]
     },
     "execution_count": 141,
     "metadata": {},
     "output_type": "execute_result"
    }
   ],
   "source": [
    "avg_glove_sim_score"
   ]
  },
  {
   "cell_type": "code",
   "execution_count": 156,
   "metadata": {},
   "outputs": [],
   "source": [
    "cum_dissim_score = 0\n",
    "for i, row in dissim_df.iterrows():\n",
    "    try:\n",
    "        text1 = row['text1']\n",
    "        text2 = row['text2']\n",
    "        use_emb1 = convert_sen_to_vec(text1)\n",
    "        use_emb2 = convert_sen_to_vec(text2)\n",
    "        dissim_score = cosine(use_emb1, use_emb2)\n",
    "        cum_dissim_score += dissim_score\n",
    "    except:\n",
    "        continue\n",
    "    avg_glove_dissim_score = np.round(cum_dissim_score/dissim_df.shape[0]*100, 2)"
   ]
  },
  {
   "cell_type": "code",
   "execution_count": 157,
   "metadata": {},
   "outputs": [
    {
     "data": {
      "text/plain": [
       "57.83"
      ]
     },
     "execution_count": 157,
     "metadata": {},
     "output_type": "execute_result"
    }
   ],
   "source": [
    "avg_glove_dissim_score"
   ]
  },
  {
   "cell_type": "code",
   "execution_count": 158,
   "metadata": {},
   "outputs": [],
   "source": [
    "categories = ['tfidf', 'n_gram_tfidf', 'glove', 'USE']\n",
    "sim_values = [avg_tfidf_sim_score, avg_tfidf_ngram_sim_score, avg_use_sim_score, avg_glove_sim_score]\n",
    "dissim_values = [avg_tfidf_dissim_score, avg_tfidf_ngram_dissim_score, avg_use_dissim_score, avg_glove_dissim_score]"
   ]
  },
  {
   "cell_type": "code",
   "execution_count": 159,
   "metadata": {},
   "outputs": [
    {
     "data": {
      "text/html": [
       "<div>\n",
       "<style scoped>\n",
       "    .dataframe tbody tr th:only-of-type {\n",
       "        vertical-align: middle;\n",
       "    }\n",
       "\n",
       "    .dataframe tbody tr th {\n",
       "        vertical-align: top;\n",
       "    }\n",
       "\n",
       "    .dataframe thead th {\n",
       "        text-align: right;\n",
       "    }\n",
       "</style>\n",
       "<table border=\"1\" class=\"dataframe\">\n",
       "  <thead>\n",
       "    <tr style=\"text-align: right;\">\n",
       "      <th></th>\n",
       "      <th>sim_values</th>\n",
       "      <th>dissim_values</th>\n",
       "    </tr>\n",
       "  </thead>\n",
       "  <tbody>\n",
       "    <tr>\n",
       "      <th>tfidf</th>\n",
       "      <td>43.46</td>\n",
       "      <td>3.03</td>\n",
       "    </tr>\n",
       "    <tr>\n",
       "      <th>n_gram_tfidf</th>\n",
       "      <td>10.94</td>\n",
       "      <td>0.00</td>\n",
       "    </tr>\n",
       "    <tr>\n",
       "      <th>glove</th>\n",
       "      <td>74.80</td>\n",
       "      <td>8.09</td>\n",
       "    </tr>\n",
       "    <tr>\n",
       "      <th>USE</th>\n",
       "      <td>79.34</td>\n",
       "      <td>57.83</td>\n",
       "    </tr>\n",
       "  </tbody>\n",
       "</table>\n",
       "</div>"
      ],
      "text/plain": [
       "              sim_values  dissim_values\n",
       "tfidf              43.46           3.03\n",
       "n_gram_tfidf       10.94           0.00\n",
       "glove              74.80           8.09\n",
       "USE                79.34          57.83"
      ]
     },
     "execution_count": 159,
     "metadata": {},
     "output_type": "execute_result"
    }
   ],
   "source": [
    "compare_df = pd.DataFrame(\n",
    "    {\n",
    "        'sim_values': sim_values,\n",
    "        'dissim_values': dissim_values\n",
    "    }, \n",
    "    index = categories\n",
    ")\n",
    "compare_df"
   ]
  },
  {
   "cell_type": "code",
   "execution_count": 171,
   "metadata": {},
   "outputs": [
    {
     "data": {
      "image/png": "[encoded data removed]",
      "text/plain": [
       "<Figure size 600x400 with 1 Axes>"
      ]
     },
     "metadata": {},
     "output_type": "display_data"
    }
   ],
   "source": [
    "colors = ['#5cb85c', '#5bc0de']\n",
    "\n",
    "ax = compare_df.plot(kind='bar', color=colors, figsize=(6, 4), rot=0, ylabel='Average similarity score', title=\"Average similarity score using different algorithms\")\n",
    "\n",
    "for c in ax.containers:\n",
    "    ax.bar_label(c, fmt='%.2f', label_type='edge')"
   ]
  }
 ],
 "metadata": {
  "kernelspec": {
   "display_name": "Python 3",
   "language": "python",
   "name": "python3"
  },
  "language_info": {
   "codemirror_mode": {
    "name": "ipython",
    "version": 3
   },
   "file_extension": ".py",
   "mimetype": "text/x-python",
   "name": "python",
   "nbconvert_exporter": "python",
   "pygments_lexer": "ipython3",
   "version": "3.9.6"
  },
  "orig_nbformat": 4
 },
 "nbformat": 4,
 "nbformat_minor": 2
}
